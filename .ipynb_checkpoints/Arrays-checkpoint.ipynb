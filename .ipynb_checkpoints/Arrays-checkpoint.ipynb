{
 "cells": [
  {
   "cell_type": "code",
   "execution_count": 1,
   "id": "a5dd42ba-42ac-4db9-b227-8d55e19f77b4",
   "metadata": {},
   "outputs": [],
   "source": [
    "# Creating numpy n-d array"
   ]
  },
  {
   "cell_type": "code",
   "execution_count": 4,
   "id": "19fec26e-3a1c-44de-9a59-135bdd1571f1",
   "metadata": {},
   "outputs": [],
   "source": [
    "import numpy as np"
   ]
  },
  {
   "cell_type": "markdown",
   "id": "6e4cc8f2-d667-4201-b566-1a7768c6e48b",
   "metadata": {},
   "source": [
    "# numpy arrays mathods.........."
   ]
  },
  {
   "cell_type": "code",
   "execution_count": 5,
   "id": "e5045e18-229d-4486-b757-bd261e0ac2bc",
   "metadata": {},
   "outputs": [],
   "source": [
    "arr1 = np.array([1,2,3,5,6,4])"
   ]
  },
  {
   "cell_type": "code",
   "execution_count": 6,
   "id": "d21723e8-f785-494c-89d9-abd7a8c95a92",
   "metadata": {},
   "outputs": [
    {
     "data": {
      "text/plain": [
       "array([1, 2, 3, 5, 6, 4])"
      ]
     },
     "execution_count": 6,
     "metadata": {},
     "output_type": "execute_result"
    }
   ],
   "source": [
    "arr1"
   ]
  },
  {
   "cell_type": "code",
   "execution_count": null,
   "id": "07d1f32a-81ca-49e6-bc01-b6c1c05b8b33",
   "metadata": {},
   "outputs": [],
   "source": [
    "# type of the array(arr1) is n-d array"
   ]
  },
  {
   "cell_type": "code",
   "execution_count": 9,
   "id": "9c6a17d0-7501-4049-9796-ebde36223fd4",
   "metadata": {},
   "outputs": [
    {
     "data": {
      "text/plain": [
       "numpy.ndarray"
      ]
     },
     "execution_count": 9,
     "metadata": {},
     "output_type": "execute_result"
    }
   ],
   "source": [
    "type(arr1)"
   ]
  },
  {
   "cell_type": "code",
   "execution_count": 10,
   "id": "12d8584e-e2a3-485b-ad61-4092abcb473b",
   "metadata": {},
   "outputs": [
    {
     "data": {
      "text/plain": [
       "array([[2, 3, 5],\n",
       "       [2, 7, 6]])"
      ]
     },
     "execution_count": 10,
     "metadata": {},
     "output_type": "execute_result"
    }
   ],
   "source": [
    "# creating (2,3) array\n",
    "arr2 = np.array([[2,3,5],[2,7,6]])\n",
    "arr2"
   ]
  },
  {
   "cell_type": "code",
   "execution_count": 11,
   "id": "6adecfbb-9626-4e4e-94b5-5931ece6324c",
   "metadata": {},
   "outputs": [
    {
     "data": {
      "text/plain": [
       "array([[0., 0., 0.],\n",
       "       [0., 0., 0.]])"
      ]
     },
     "execution_count": 11,
     "metadata": {},
     "output_type": "execute_result"
    }
   ],
   "source": [
    "arr3 = np.zeros((2,3))\n",
    "arr3"
   ]
  },
  {
   "cell_type": "code",
   "execution_count": 12,
   "id": "f493a357-ba60-4115-8cae-bcafefcfb049",
   "metadata": {},
   "outputs": [
    {
     "data": {
      "text/plain": [
       "array([[1., 1., 1.],\n",
       "       [1., 1., 1.]])"
      ]
     },
     "execution_count": 12,
     "metadata": {},
     "output_type": "execute_result"
    }
   ],
   "source": [
    "arr4 = np.ones((2,3))\n",
    "arr4"
   ]
  },
  {
   "cell_type": "code",
   "execution_count": 13,
   "id": "2f136562-defe-4ec0-8419-dac35202089d",
   "metadata": {},
   "outputs": [
    {
     "data": {
      "text/plain": [
       "array([[6.23042070e-307, 4.67296746e-307, 1.69121096e-306],\n",
       "       [1.78019082e-306, 1.89146896e-307, 7.56571288e-307],\n",
       "       [3.11525958e-307, 1.24610723e-306, 0.00000000e+000]])"
      ]
     },
     "execution_count": 13,
     "metadata": {},
     "output_type": "execute_result"
    }
   ],
   "source": [
    "arr5 = np.empty((3,3))\n",
    "arr5"
   ]
  },
  {
   "cell_type": "code",
   "execution_count": 14,
   "id": "01d4c202-9005-458d-a783-6a53634d22dd",
   "metadata": {},
   "outputs": [
    {
     "data": {
      "text/plain": [
       "array([[1., 0., 0., 0., 0.],\n",
       "       [0., 1., 0., 0., 0.],\n",
       "       [0., 0., 1., 0., 0.],\n",
       "       [0., 0., 0., 1., 0.],\n",
       "       [0., 0., 0., 0., 1.]])"
      ]
     },
     "execution_count": 14,
     "metadata": {},
     "output_type": "execute_result"
    }
   ],
   "source": [
    "arr6 = np.identity(5)\n",
    "arr6"
   ]
  },
  {
   "cell_type": "code",
   "execution_count": 15,
   "id": "49236eb3-5102-438c-8eff-58a86904c44a",
   "metadata": {},
   "outputs": [
    {
     "data": {
      "text/plain": [
       "array([ 5,  7,  9, 11, 13])"
      ]
     },
     "execution_count": 15,
     "metadata": {},
     "output_type": "execute_result"
    }
   ],
   "source": [
    "# creat a arrray which range will be 5 to 15 and skip 1 number \n",
    "arr7 = np.arange(5,15,2)\n",
    "arr7"
   ]
  },
  {
   "cell_type": "code",
   "execution_count": 16,
   "id": "3df3a342-dad0-42aa-8f41-e7bcb7f65a84",
   "metadata": {},
   "outputs": [
    {
     "data": {
      "text/plain": [
       "array([10.        , 11.11111111, 12.22222222, 13.33333333, 14.44444444,\n",
       "       15.55555556, 16.66666667, 17.77777778, 18.88888889, 20.        ])"
      ]
     },
     "execution_count": 16,
     "metadata": {},
     "output_type": "execute_result"
    }
   ],
   "source": [
    "# creating a array with linspace which range 10 to 20 and for the mid we want 10 items\n",
    "arr8 = np.linspace(10,20,10)\n",
    "arr8"
   ]
  },
  {
   "cell_type": "code",
   "execution_count": 17,
   "id": "c6439798-65a7-445a-80c0-32bba0cf5846",
   "metadata": {},
   "outputs": [
    {
     "data": {
      "text/plain": [
       "array([ 5,  7,  9, 11, 13])"
      ]
     },
     "execution_count": 17,
     "metadata": {},
     "output_type": "execute_result"
    }
   ],
   "source": [
    "arr9 = arr7.copy()\n",
    "arr9"
   ]
  },
  {
   "cell_type": "markdown",
   "id": "1d0d9d5f-d511-4be4-9fe2-3920c8ab95ef",
   "metadata": {},
   "source": [
    "# Properties & Attributes in numpy arrays........"
   ]
  },
  {
   "cell_type": "code",
   "execution_count": 18,
   "id": "4fbb20c8-70e6-48b6-82a0-eca41cc654b3",
   "metadata": {},
   "outputs": [
    {
     "data": {
      "text/plain": [
       "array([1, 2, 3, 5, 6, 4])"
      ]
     },
     "execution_count": 18,
     "metadata": {},
     "output_type": "execute_result"
    }
   ],
   "source": [
    "arr1"
   ]
  },
  {
   "cell_type": "code",
   "execution_count": 19,
   "id": "5635b9a8-a678-441a-b83a-57a968455a6c",
   "metadata": {},
   "outputs": [
    {
     "data": {
      "text/plain": [
       "(6,)"
      ]
     },
     "execution_count": 19,
     "metadata": {},
     "output_type": "execute_result"
    }
   ],
   "source": [
    "# produce the shape in a array with shape attribute\n",
    "arr1.shape"
   ]
  },
  {
   "cell_type": "code",
   "execution_count": 20,
   "id": "18658c97-596f-4c86-8fd5-772c9b1b70dc",
   "metadata": {},
   "outputs": [
    {
     "data": {
      "text/plain": [
       "array([[2, 3, 5],\n",
       "       [2, 7, 6]])"
      ]
     },
     "execution_count": 20,
     "metadata": {},
     "output_type": "execute_result"
    }
   ],
   "source": [
    "arr2"
   ]
  },
  {
   "cell_type": "code",
   "execution_count": 21,
   "id": "492c3f08-f6fb-4bfa-9a2b-6d94b2c89bf9",
   "metadata": {},
   "outputs": [
    {
     "data": {
      "text/plain": [
       "(2, 3)"
      ]
     },
     "execution_count": 21,
     "metadata": {},
     "output_type": "execute_result"
    }
   ],
   "source": [
    "arr2.shape"
   ]
  },
  {
   "cell_type": "code",
   "execution_count": 22,
   "id": "c7776074-d51c-4d7f-ae9c-965eb08d811a",
   "metadata": {},
   "outputs": [
    {
     "data": {
      "text/plain": [
       "array([[[2, 4],\n",
       "        [4, 6]],\n",
       "\n",
       "       [[6, 4],\n",
       "        [8, 5]]])"
      ]
     },
     "execution_count": 22,
     "metadata": {},
     "output_type": "execute_result"
    }
   ],
   "source": [
    "arr10 = np.array([[[2,4],[4,6]],[[6,4],[8,5]]])\n",
    "arr10"
   ]
  },
  {
   "cell_type": "code",
   "execution_count": 23,
   "id": "c6274824-45a0-4d3d-b1b3-f9867cf70775",
   "metadata": {},
   "outputs": [
    {
     "data": {
      "text/plain": [
       "(2, 2, 2)"
      ]
     },
     "execution_count": 23,
     "metadata": {},
     "output_type": "execute_result"
    }
   ],
   "source": [
    "arr10.shape\n"
   ]
  },
  {
   "cell_type": "code",
   "execution_count": 24,
   "id": "4588f8b4-408a-476c-b72d-e4560d4d0804",
   "metadata": {},
   "outputs": [
    {
     "data": {
      "text/plain": [
       "3"
      ]
     },
     "execution_count": 24,
     "metadata": {},
     "output_type": "execute_result"
    }
   ],
   "source": [
    "#calculate the dimantion with using ndim attribute\n",
    "arr10.ndim"
   ]
  },
  {
   "cell_type": "code",
   "execution_count": 25,
   "id": "7be8c8cd-ab5e-48f8-a6da-b3e11cae3137",
   "metadata": {},
   "outputs": [
    {
     "data": {
      "text/plain": [
       "2"
      ]
     },
     "execution_count": 25,
     "metadata": {},
     "output_type": "execute_result"
    }
   ],
   "source": [
    "arr2.ndim"
   ]
  },
  {
   "cell_type": "code",
   "execution_count": 26,
   "id": "d439628f-5c67-4225-8a2a-ba2f27845488",
   "metadata": {},
   "outputs": [
    {
     "data": {
      "text/plain": [
       "1"
      ]
     },
     "execution_count": 26,
     "metadata": {},
     "output_type": "execute_result"
    }
   ],
   "source": [
    "arr1.ndim"
   ]
  },
  {
   "cell_type": "code",
   "execution_count": 27,
   "id": "40a84a49-e423-41d2-9241-bda97c434c79",
   "metadata": {},
   "outputs": [
    {
     "data": {
      "text/plain": [
       "6"
      ]
     },
     "execution_count": 27,
     "metadata": {},
     "output_type": "execute_result"
    }
   ],
   "source": [
    "# creating a size with using size attribute # get haw many items in the aeeay\n",
    "arr1.size"
   ]
  },
  {
   "cell_type": "code",
   "execution_count": 28,
   "id": "232422d9-506f-46ef-8344-5068a67bdaba",
   "metadata": {},
   "outputs": [
    {
     "data": {
      "text/plain": [
       "8"
      ]
     },
     "execution_count": 28,
     "metadata": {},
     "output_type": "execute_result"
    }
   ],
   "source": [
    "arr10.size"
   ]
  },
  {
   "cell_type": "code",
   "execution_count": 29,
   "id": "e77c5c99-98ca-49e9-b0b5-c527ca526f58",
   "metadata": {},
   "outputs": [
    {
     "data": {
      "text/plain": [
       "array([[[2, 4],\n",
       "        [4, 6]],\n",
       "\n",
       "       [[6, 4],\n",
       "        [8, 5]]])"
      ]
     },
     "execution_count": 29,
     "metadata": {},
     "output_type": "execute_result"
    }
   ],
   "source": [
    "arr10"
   ]
  },
  {
   "cell_type": "code",
   "execution_count": 30,
   "id": "715b4274-c205-414f-b1d7-2f8ff1652e6f",
   "metadata": {},
   "outputs": [
    {
     "data": {
      "text/plain": [
       "8"
      ]
     },
     "execution_count": 30,
     "metadata": {},
     "output_type": "execute_result"
    }
   ],
   "source": [
    "# get the sixe of one item\n",
    "arr1.itemsize"
   ]
  },
  {
   "cell_type": "code",
   "execution_count": 31,
   "id": "9b418ee7-56a9-49b6-a1db-6ea1408b5f34",
   "metadata": {},
   "outputs": [
    {
     "data": {
      "text/plain": [
       "8"
      ]
     },
     "execution_count": 31,
     "metadata": {},
     "output_type": "execute_result"
    }
   ],
   "source": [
    "arr10.itemsize"
   ]
  },
  {
   "cell_type": "code",
   "execution_count": 32,
   "id": "7a0b286c-7d02-4620-a291-3f59f28886b3",
   "metadata": {},
   "outputs": [
    {
     "data": {
      "text/plain": [
       "array([ 5,  7,  9, 11, 13])"
      ]
     },
     "execution_count": 32,
     "metadata": {},
     "output_type": "execute_result"
    }
   ],
   "source": [
    "arr7"
   ]
  },
  {
   "cell_type": "code",
   "execution_count": 33,
   "id": "09b98c2b-abf0-4ab3-a030-6fd82fc07a3e",
   "metadata": {},
   "outputs": [
    {
     "data": {
      "text/plain": [
       "array([10.        , 11.11111111, 12.22222222, 13.33333333, 14.44444444,\n",
       "       15.55555556, 16.66666667, 17.77777778, 18.88888889, 20.        ])"
      ]
     },
     "execution_count": 33,
     "metadata": {},
     "output_type": "execute_result"
    }
   ],
   "source": [
    "arr8"
   ]
  },
  {
   "cell_type": "code",
   "execution_count": 34,
   "id": "0acda9d8-ebef-4229-9e15-ce473481b199",
   "metadata": {},
   "outputs": [
    {
     "data": {
      "text/plain": [
       "8"
      ]
     },
     "execution_count": 34,
     "metadata": {},
     "output_type": "execute_result"
    }
   ],
   "source": [
    "arr8.itemsize"
   ]
  },
  {
   "cell_type": "code",
   "execution_count": 35,
   "id": "5572d5f9-6144-4211-97f1-9978888e9a7d",
   "metadata": {},
   "outputs": [
    {
     "data": {
      "text/plain": [
       "8"
      ]
     },
     "execution_count": 35,
     "metadata": {},
     "output_type": "execute_result"
    }
   ],
   "source": [
    "arr4.itemsize"
   ]
  },
  {
   "cell_type": "code",
   "execution_count": 36,
   "id": "cc2fc047-4396-4d10-967d-f270e23310b1",
   "metadata": {},
   "outputs": [
    {
     "data": {
      "text/plain": [
       "dtype('int64')"
      ]
     },
     "execution_count": 36,
     "metadata": {},
     "output_type": "execute_result"
    }
   ],
   "source": [
    "# get the data type in the arrays items\n",
    "arr10.dtype"
   ]
  },
  {
   "cell_type": "code",
   "execution_count": 37,
   "id": "db8aa8e4-1630-4005-94e2-e2d1e8e56e58",
   "metadata": {},
   "outputs": [
    {
     "data": {
      "text/plain": [
       "array([[[2., 4.],\n",
       "        [4., 6.]],\n",
       "\n",
       "       [[6., 4.],\n",
       "        [8., 5.]]])"
      ]
     },
     "execution_count": 37,
     "metadata": {},
     "output_type": "execute_result"
    }
   ],
   "source": [
    "arr10.astype('float')"
   ]
  },
  {
   "cell_type": "code",
   "execution_count": 38,
   "id": "74095b1a-dccc-4ae0-811e-a832ccf4b9ab",
   "metadata": {},
   "outputs": [
    {
     "data": {
      "text/plain": [
       "array([1, 2, 3, 5, 6, 4])"
      ]
     },
     "execution_count": 38,
     "metadata": {},
     "output_type": "execute_result"
    }
   ],
   "source": [
    "arr1"
   ]
  },
  {
   "cell_type": "code",
   "execution_count": 39,
   "id": "e6eb293b-d261-405d-a587-da04af5e0547",
   "metadata": {},
   "outputs": [
    {
     "data": {
      "text/plain": [
       "8"
      ]
     },
     "execution_count": 39,
     "metadata": {},
     "output_type": "execute_result"
    }
   ],
   "source": [
    "arr1.itemsize"
   ]
  },
  {
   "cell_type": "markdown",
   "id": "6fc48722-85ce-45b8-b501-37b221d0fb2f",
   "metadata": {},
   "source": [
    "# python Listes vs numpy Array......."
   ]
  },
  {
   "cell_type": "markdown",
   "id": "e03b408e-bd77-4fc2-ad22-f9b544c762c1",
   "metadata": {},
   "source": [
    "### 1. proved that numpy array take the less memori rather then python list"
   ]
  },
  {
   "cell_type": "code",
   "execution_count": 40,
   "id": "d3c0463a-9166-4f6c-b775-da6690b46c5a",
   "metadata": {},
   "outputs": [],
   "source": [
    "lista = range(100)\n",
    "arr11 = np.arange(100)"
   ]
  },
  {
   "cell_type": "code",
   "execution_count": 41,
   "id": "90923960-7680-430f-926c-f779e578754e",
   "metadata": {},
   "outputs": [],
   "source": [
    "# import a module called sys mens system\n",
    "import sys"
   ]
  },
  {
   "cell_type": "code",
   "execution_count": 42,
   "id": "141c7de9-d2c7-4db0-bbd4-a878af3d3c2f",
   "metadata": {},
   "outputs": [
    {
     "name": "stdout",
     "output_type": "stream",
     "text": [
      "2800\n"
     ]
    }
   ],
   "source": [
    "# calculate lista size\n",
    "print(sys.getsizeof(87)*len(lista))"
   ]
  },
  {
   "cell_type": "code",
   "execution_count": 43,
   "id": "3241bc6c-9ad9-4f8c-8b7b-6d346841a187",
   "metadata": {},
   "outputs": [
    {
     "name": "stdout",
     "output_type": "stream",
     "text": [
      "800\n"
     ]
    }
   ],
   "source": [
    "# calculate array11 size\n",
    "print(arr11.itemsize*arr11.size)"
   ]
  },
  {
   "cell_type": "markdown",
   "id": "9255552c-b44d-4e85-8538-878ad77cb9cb",
   "metadata": {},
   "source": [
    "### 2. prove that numpy array is first rather then pothon list"
   ]
  },
  {
   "cell_type": "code",
   "execution_count": 44,
   "id": "dfd0141e-e647-42a7-ab5c-16dcb23c95d2",
   "metadata": {},
   "outputs": [],
   "source": [
    "import time"
   ]
  },
  {
   "cell_type": "code",
   "execution_count": 46,
   "id": "718212ed-8893-4b3f-a958-19d5150b9a35",
   "metadata": {},
   "outputs": [
    {
     "name": "stdout",
     "output_type": "stream",
     "text": [
      "1.7034547328948975\n"
     ]
    }
   ],
   "source": [
    "# calculating time for python Lists\n",
    "x = range(10000000)\n",
    "y = range(10000000,20000000)\n",
    "start_time = time.time()\n",
    "\n",
    "z = [(x,y) for x,y in zip(x,y)]\n",
    "\n",
    "print(time.time()-start_time)"
   ]
  },
  {
   "cell_type": "code",
   "execution_count": 47,
   "id": "80f41614-f6ed-47f6-a333-7eecaaf29369",
   "metadata": {},
   "outputs": [
    {
     "name": "stdout",
     "output_type": "stream",
     "text": [
      "0.6476478576660156\n"
     ]
    }
   ],
   "source": [
    "# calculating time for numpy array \n",
    "a = np.arange(10000000)\n",
    "b = np.arange(10000000,20000000)\n",
    "start_time = time.time()\n",
    "c = a+b\n",
    "print(time.time()-start_time)"
   ]
  },
  {
   "cell_type": "markdown",
   "id": "ab8475e9-02a3-4675-9ca5-e0ec5a8c63e9",
   "metadata": {},
   "source": [
    "# numpy array Indexing, Slicing & Iteration......."
   ]
  },
  {
   "cell_type": "code",
   "execution_count": 50,
   "id": "1e29d545-b845-4873-87a5-7c78b198eeab",
   "metadata": {},
   "outputs": [
    {
     "data": {
      "text/plain": [
       "array([[ 0,  1,  2,  3],\n",
       "       [ 4,  5,  6,  7],\n",
       "       [ 8,  9, 10, 11],\n",
       "       [12, 13, 14, 15],\n",
       "       [16, 17, 18, 19],\n",
       "       [20, 21, 22, 23]])"
      ]
     },
     "execution_count": 50,
     "metadata": {},
     "output_type": "execute_result"
    }
   ],
   "source": [
    "arr12 = np.arange(24).reshape(6,4)\n",
    "arr12"
   ]
  },
  {
   "cell_type": "code",
   "execution_count": 49,
   "id": "ef084ad1-802a-45df-bd8f-58ba8dac9f06",
   "metadata": {},
   "outputs": [
    {
     "data": {
      "text/plain": [
       "array([1, 2, 3, 5, 6, 4])"
      ]
     },
     "execution_count": 49,
     "metadata": {},
     "output_type": "execute_result"
    }
   ],
   "source": [
    "arr1"
   ]
  },
  {
   "cell_type": "code",
   "execution_count": 51,
   "id": "2cd91b9b-9154-4f5e-954f-9e8dbca744ba",
   "metadata": {},
   "outputs": [
    {
     "data": {
      "text/plain": [
       "np.int64(5)"
      ]
     },
     "execution_count": 51,
     "metadata": {},
     "output_type": "execute_result"
    }
   ],
   "source": [
    "arr1[3]"
   ]
  },
  {
   "cell_type": "code",
   "execution_count": 52,
   "id": "a6a4b777-e028-4157-8399-e9c0aa664b7e",
   "metadata": {},
   "outputs": [
    {
     "data": {
      "text/plain": [
       "array([2, 3, 5])"
      ]
     },
     "execution_count": 52,
     "metadata": {},
     "output_type": "execute_result"
    }
   ],
   "source": [
    "arr1[1:4]"
   ]
  },
  {
   "cell_type": "code",
   "execution_count": 53,
   "id": "e4b766ea-55e3-48e2-9040-420ee33c712a",
   "metadata": {},
   "outputs": [
    {
     "data": {
      "text/plain": [
       "np.int64(4)"
      ]
     },
     "execution_count": 53,
     "metadata": {},
     "output_type": "execute_result"
    }
   ],
   "source": [
    "arr1[-1]"
   ]
  },
  {
   "cell_type": "code",
   "execution_count": 54,
   "id": "61d738ef-6dd3-4eb3-8107-4f50cbb8a76c",
   "metadata": {},
   "outputs": [
    {
     "data": {
      "text/plain": [
       "np.int64(6)"
      ]
     },
     "execution_count": 54,
     "metadata": {},
     "output_type": "execute_result"
    }
   ],
   "source": [
    "arr1[-2]"
   ]
  },
  {
   "cell_type": "code",
   "execution_count": 55,
   "id": "2af8ccea-21d4-4a3c-9c3b-7cb59f3634c4",
   "metadata": {},
   "outputs": [
    {
     "data": {
      "text/plain": [
       "array([ 8,  9, 10, 11])"
      ]
     },
     "execution_count": 55,
     "metadata": {},
     "output_type": "execute_result"
    }
   ],
   "source": [
    "arr12[2]"
   ]
  },
  {
   "cell_type": "code",
   "execution_count": 56,
   "id": "d8f4785c-9ba9-42f1-90b2-42f89675d69a",
   "metadata": {},
   "outputs": [
    {
     "data": {
      "text/plain": [
       "array([ 2,  6, 10, 14, 18, 22])"
      ]
     },
     "execution_count": 56,
     "metadata": {},
     "output_type": "execute_result"
    }
   ],
   "source": [
    "arr12[:,2]"
   ]
  },
  {
   "cell_type": "code",
   "execution_count": 60,
   "id": "f7d5cf76-f16a-48d1-8d3d-6b5c66953f62",
   "metadata": {},
   "outputs": [
    {
     "data": {
      "text/plain": [
       "array([[ 0,  1,  2,  3],\n",
       "       [ 4,  5,  6,  7],\n",
       "       [ 8,  9, 10, 11],\n",
       "       [12, 13, 14, 15],\n",
       "       [16, 17, 18, 19],\n",
       "       [20, 21, 22, 23]])"
      ]
     },
     "execution_count": 60,
     "metadata": {},
     "output_type": "execute_result"
    }
   ],
   "source": [
    "arr12"
   ]
  },
  {
   "cell_type": "code",
   "execution_count": 61,
   "id": "f0339c8a-eaee-49a7-9007-df5455e339a2",
   "metadata": {},
   "outputs": [
    {
     "data": {
      "text/plain": [
       "array([[ 9, 10],\n",
       "       [13, 14]])"
      ]
     },
     "execution_count": 61,
     "metadata": {},
     "output_type": "execute_result"
    }
   ],
   "source": [
    "arr12[2:4,1:3]"
   ]
  },
  {
   "cell_type": "code",
   "execution_count": 62,
   "id": "fa520e5d-2ebf-4737-bf7b-067fed0a218e",
   "metadata": {},
   "outputs": [
    {
     "data": {
      "text/plain": [
       "array([[ 0,  1,  2,  3],\n",
       "       [ 4,  5,  6,  7],\n",
       "       [ 8,  9, 10, 11],\n",
       "       [12, 13, 14, 15],\n",
       "       [16, 17, 18, 19],\n",
       "       [20, 21, 22, 23]])"
      ]
     },
     "execution_count": 62,
     "metadata": {},
     "output_type": "execute_result"
    }
   ],
   "source": [
    "arr12"
   ]
  },
  {
   "cell_type": "code",
   "execution_count": 63,
   "id": "cdf062f1-2d67-4ba2-be43-d74a4e73f4cd",
   "metadata": {},
   "outputs": [
    {
     "data": {
      "text/plain": [
       "array([[18, 19],\n",
       "       [22, 23]])"
      ]
     },
     "execution_count": 63,
     "metadata": {},
     "output_type": "execute_result"
    }
   ],
   "source": [
    "arr12[4:6,2:4]"
   ]
  },
  {
   "cell_type": "code",
   "execution_count": 64,
   "id": "45e09c94-9afd-4c21-b43f-fe88a86c628f",
   "metadata": {},
   "outputs": [
    {
     "data": {
      "text/plain": [
       "array([[ 0,  1,  2,  3],\n",
       "       [ 4,  5,  6,  7],\n",
       "       [ 8,  9, 10, 11],\n",
       "       [12, 13, 14, 15],\n",
       "       [16, 17, 18, 19],\n",
       "       [20, 21, 22, 23]])"
      ]
     },
     "execution_count": 64,
     "metadata": {},
     "output_type": "execute_result"
    }
   ],
   "source": [
    "arr12"
   ]
  },
  {
   "cell_type": "code",
   "execution_count": 65,
   "id": "155ec0c4-3e84-411b-a5f1-86dc4ae5c13a",
   "metadata": {},
   "outputs": [
    {
     "name": "stdout",
     "output_type": "stream",
     "text": [
      "[0 1 2 3]\n",
      "[4 5 6 7]\n",
      "[ 8  9 10 11]\n",
      "[12 13 14 15]\n",
      "[16 17 18 19]\n",
      "[20 21 22 23]\n"
     ]
    }
   ],
   "source": [
    "for i in arr12:\n",
    "    print(i)"
   ]
  },
  {
   "cell_type": "code",
   "execution_count": 66,
   "id": "272aab27-c435-424b-8e3e-1fddb51fcef6",
   "metadata": {},
   "outputs": [
    {
     "name": "stdout",
     "output_type": "stream",
     "text": [
      "0\n",
      "1\n",
      "2\n",
      "3\n",
      "4\n",
      "5\n",
      "6\n",
      "7\n",
      "8\n",
      "9\n",
      "10\n",
      "11\n",
      "12\n",
      "13\n",
      "14\n",
      "15\n",
      "16\n",
      "17\n",
      "18\n",
      "19\n",
      "20\n",
      "21\n",
      "22\n",
      "23\n"
     ]
    }
   ],
   "source": [
    "for i in np.nditer(arr12):\n",
    "    print(i)"
   ]
  },
  {
   "cell_type": "code",
   "execution_count": 67,
   "id": "450a4d3d-f417-4d8e-a44f-8531dc4c12bb",
   "metadata": {},
   "outputs": [
    {
     "data": {
      "text/plain": [
       "array([1, 2, 3, 5, 6, 4])"
      ]
     },
     "execution_count": 67,
     "metadata": {},
     "output_type": "execute_result"
    }
   ],
   "source": [
    "arr1"
   ]
  },
  {
   "cell_type": "code",
   "execution_count": 68,
   "id": "0b3a5592-dcc5-402a-9876-aaa1f3d0ccfc",
   "metadata": {},
   "outputs": [
    {
     "data": {
      "text/plain": [
       "array([[2, 3, 5],\n",
       "       [2, 7, 6]])"
      ]
     },
     "execution_count": 68,
     "metadata": {},
     "output_type": "execute_result"
    }
   ],
   "source": [
    "arr2"
   ]
  },
  {
   "cell_type": "code",
   "execution_count": 69,
   "id": "e343549d-8bd4-4ffd-9c48-dfd4899efd2c",
   "metadata": {},
   "outputs": [
    {
     "data": {
      "text/plain": [
       "array([[ 0,  1,  2,  3],\n",
       "       [ 4,  5,  6,  7],\n",
       "       [ 8,  9, 10, 11],\n",
       "       [12, 13, 14, 15],\n",
       "       [16, 17, 18, 19],\n",
       "       [20, 21, 22, 23]])"
      ]
     },
     "execution_count": 69,
     "metadata": {},
     "output_type": "execute_result"
    }
   ],
   "source": [
    "arr12"
   ]
  },
  {
   "cell_type": "code",
   "execution_count": 70,
   "id": "a50859ea-535b-49c3-9629-14aebf50663a",
   "metadata": {},
   "outputs": [
    {
     "name": "stdout",
     "output_type": "stream",
     "text": [
      "0\n",
      "1\n",
      "2\n",
      "3\n",
      "4\n",
      "5\n",
      "6\n",
      "7\n",
      "8\n",
      "9\n",
      "10\n",
      "11\n",
      "12\n",
      "13\n",
      "14\n",
      "15\n",
      "16\n",
      "17\n",
      "18\n",
      "19\n",
      "20\n",
      "21\n",
      "22\n",
      "23\n"
     ]
    }
   ],
   "source": [
    "for i in np.nditer(arr12):\n",
    "    print(i)"
   ]
  },
  {
   "cell_type": "code",
   "execution_count": 72,
   "id": "3fc5e5ed-959a-46fc-aebe-afa89565ecd0",
   "metadata": {},
   "outputs": [
    {
     "data": {
      "text/plain": [
       "array([[2, 3, 5],\n",
       "       [2, 7, 6]])"
      ]
     },
     "execution_count": 72,
     "metadata": {},
     "output_type": "execute_result"
    }
   ],
   "source": [
    "arr2"
   ]
  },
  {
   "cell_type": "code",
   "execution_count": 75,
   "id": "fe8ee4cb-ec34-42e6-a6cd-1fc7e18c76f7",
   "metadata": {},
   "outputs": [
    {
     "name": "stdout",
     "output_type": "stream",
     "text": [
      "2\n",
      "3\n",
      "5\n",
      "2\n",
      "7\n",
      "6\n"
     ]
    }
   ],
   "source": [
    "for i in np.nditer(arr2):\n",
    "    print(i)"
   ]
  },
  {
   "cell_type": "markdown",
   "id": "3d62724d-38e5-4dea-9f9f-23520a98bca0",
   "metadata": {},
   "source": [
    "## Numpy array Operation..............................."
   ]
  },
  {
   "cell_type": "code",
   "execution_count": 76,
   "id": "669a608a-6515-4116-a574-b53faa9b9f90",
   "metadata": {},
   "outputs": [],
   "source": [
    "arr13 = np.array([1,2,3,4,5,6])\n",
    "arr14 = np.array([4,5,6,7,8,9])"
   ]
  },
  {
   "cell_type": "code",
   "execution_count": 77,
   "id": "4ddd3dff-9c0a-49b2-9de5-30c221b1da5f",
   "metadata": {},
   "outputs": [
    {
     "data": {
      "text/plain": [
       "array([-3, -3, -3, -3, -3, -3])"
      ]
     },
     "execution_count": 77,
     "metadata": {},
     "output_type": "execute_result"
    }
   ],
   "source": [
    "arr13-arr14"
   ]
  },
  {
   "cell_type": "code",
   "execution_count": 78,
   "id": "9905155d-c0a6-4cb0-b0f7-0b5ab53d144e",
   "metadata": {},
   "outputs": [
    {
     "data": {
      "text/plain": [
       "array([ 2,  4,  6,  8, 10, 12])"
      ]
     },
     "execution_count": 78,
     "metadata": {},
     "output_type": "execute_result"
    }
   ],
   "source": [
    "arr13*2"
   ]
  },
  {
   "cell_type": "code",
   "execution_count": 79,
   "id": "b15fec15-2383-42b7-9805-83ef4f2bae6a",
   "metadata": {},
   "outputs": [
    {
     "data": {
      "text/plain": [
       "array([False, False, False,  True,  True,  True])"
      ]
     },
     "execution_count": 79,
     "metadata": {},
     "output_type": "execute_result"
    }
   ],
   "source": [
    "arr13>3"
   ]
  },
  {
   "cell_type": "code",
   "execution_count": 80,
   "id": "b2473141-c8a2-4953-91a1-d176459075ae",
   "metadata": {},
   "outputs": [
    {
     "data": {
      "text/plain": [
       "array([ 4, 10, 18, 28, 40, 54])"
      ]
     },
     "execution_count": 80,
     "metadata": {},
     "output_type": "execute_result"
    }
   ],
   "source": [
    "arr13*arr14"
   ]
  },
  {
   "cell_type": "code",
   "execution_count": 82,
   "id": "bf72000f-21e5-4378-8914-e5c4b1fe3ce8",
   "metadata": {},
   "outputs": [
    {
     "data": {
      "text/plain": [
       "np.int64(154)"
      ]
     },
     "execution_count": 82,
     "metadata": {},
     "output_type": "execute_result"
    }
   ],
   "source": [
    "arr13.dot(arr14)"
   ]
  },
  {
   "cell_type": "code",
   "execution_count": 84,
   "id": "43aa0792-52ba-420b-aaa0-257dd243cb6d",
   "metadata": {},
   "outputs": [
    {
     "data": {
      "text/plain": [
       "array([ 16,  50, 108, 196, 320, 486])"
      ]
     },
     "execution_count": 84,
     "metadata": {},
     "output_type": "execute_result"
    }
   ],
   "source": [
    "arr13*=arr14\n",
    "arr13"
   ]
  },
  {
   "cell_type": "code",
   "execution_count": 92,
   "id": "bcf28253-f7c3-4b4d-9d43-907ff3a5a033",
   "metadata": {},
   "outputs": [
    {
     "data": {
      "text/plain": [
       "array([[2, 3, 5],\n",
       "       [2, 7, 6]])"
      ]
     },
     "execution_count": 92,
     "metadata": {},
     "output_type": "execute_result"
    }
   ],
   "source": [
    "arr1"
   ]
  },
  {
   "cell_type": "code",
   "execution_count": 93,
   "id": "a599a592-2e18-49f2-a352-14940dcd8a90",
   "metadata": {},
   "outputs": [
    {
     "data": {
      "text/plain": [
       "array([[2, 3, 5],\n",
       "       [2, 7, 6]])"
      ]
     },
     "execution_count": 93,
     "metadata": {},
     "output_type": "execute_result"
    }
   ],
   "source": [
    "arr2"
   ]
  },
  {
   "cell_type": "code",
   "execution_count": 94,
   "id": "a955a376-6a62-42b9-b7d3-2d988be9f2f9",
   "metadata": {},
   "outputs": [
    {
     "data": {
      "text/plain": [
       "array([[2, 3],\n",
       "       [5, 2],\n",
       "       [7, 6]])"
      ]
     },
     "execution_count": 94,
     "metadata": {},
     "output_type": "execute_result"
    }
   ],
   "source": [
    "arr2 = arr2.reshape(3,2)\n",
    "arr2"
   ]
  },
  {
   "cell_type": "code",
   "execution_count": 95,
   "id": "221608b0-ee6c-4e91-aca9-6e2112633af5",
   "metadata": {},
   "outputs": [
    {
     "data": {
      "text/plain": [
       "array([[54, 42],\n",
       "       [81, 56]])"
      ]
     },
     "execution_count": 95,
     "metadata": {},
     "output_type": "execute_result"
    }
   ],
   "source": [
    "arr1.dot(arr2)"
   ]
  },
  {
   "cell_type": "code",
   "execution_count": 96,
   "id": "f00ecc3d-7d84-47e3-a1c1-fd97b44ef892",
   "metadata": {},
   "outputs": [
    {
     "data": {
      "text/plain": [
       "array([[2, 3],\n",
       "       [5, 2],\n",
       "       [7, 6]])"
      ]
     },
     "execution_count": 96,
     "metadata": {},
     "output_type": "execute_result"
    }
   ],
   "source": [
    "arr2"
   ]
  },
  {
   "cell_type": "code",
   "execution_count": 97,
   "id": "b3374762-4ee7-46d0-a010-5f9a5a21b8be",
   "metadata": {},
   "outputs": [
    {
     "data": {
      "text/plain": [
       "np.int64(2)"
      ]
     },
     "execution_count": 97,
     "metadata": {},
     "output_type": "execute_result"
    }
   ],
   "source": [
    "arr2.min()"
   ]
  },
  {
   "cell_type": "code",
   "execution_count": 98,
   "id": "ff071ac9-9288-4385-8087-0ac12deeba20",
   "metadata": {},
   "outputs": [
    {
     "data": {
      "text/plain": [
       "np.int64(7)"
      ]
     },
     "execution_count": 98,
     "metadata": {},
     "output_type": "execute_result"
    }
   ],
   "source": [
    "arr2.max()"
   ]
  },
  {
   "cell_type": "code",
   "execution_count": 99,
   "id": "58860410-fa3a-442f-ae29-0e0868de5da5",
   "metadata": {},
   "outputs": [
    {
     "data": {
      "text/plain": [
       "array([2, 2])"
      ]
     },
     "execution_count": 99,
     "metadata": {},
     "output_type": "execute_result"
    }
   ],
   "source": [
    "arr2.min(axis = 0)"
   ]
  },
  {
   "cell_type": "code",
   "execution_count": 100,
   "id": "da9b9b01-01e4-4f89-abf3-f85a78770dba",
   "metadata": {},
   "outputs": [
    {
     "data": {
      "text/plain": [
       "array([3, 5, 7])"
      ]
     },
     "execution_count": 100,
     "metadata": {},
     "output_type": "execute_result"
    }
   ],
   "source": [
    "arr2.max(axis = 1)"
   ]
  },
  {
   "cell_type": "code",
   "execution_count": 101,
   "id": "0fc3fec5-8a27-4567-b527-1ad140a94296",
   "metadata": {},
   "outputs": [
    {
     "data": {
      "text/plain": [
       "array([ 5,  7, 13])"
      ]
     },
     "execution_count": 101,
     "metadata": {},
     "output_type": "execute_result"
    }
   ],
   "source": [
    "arr2.sum(axis = 1)"
   ]
  },
  {
   "cell_type": "code",
   "execution_count": 102,
   "id": "84c93340-507c-4601-8a2c-540184179800",
   "metadata": {},
   "outputs": [
    {
     "data": {
      "text/plain": [
       "array([14, 11])"
      ]
     },
     "execution_count": 102,
     "metadata": {},
     "output_type": "execute_result"
    }
   ],
   "source": [
    "arr2.sum(axis = 0)"
   ]
  },
  {
   "cell_type": "code",
   "execution_count": 106,
   "id": "3ab433d3-db5a-4a65-b92f-2ac5b62b3884",
   "metadata": {},
   "outputs": [
    {
     "data": {
      "text/plain": [
       "array([ 5,  7, 13])"
      ]
     },
     "execution_count": 106,
     "metadata": {},
     "output_type": "execute_result"
    }
   ],
   "source": [
    "arr2.sum(axis = 1)"
   ]
  },
  {
   "cell_type": "code",
   "execution_count": 107,
   "id": "63564d00-78cf-4569-9b3a-b27a7ae84a43",
   "metadata": {},
   "outputs": [
    {
     "data": {
      "text/plain": [
       "array([[2, 3],\n",
       "       [5, 2],\n",
       "       [7, 6]])"
      ]
     },
     "execution_count": 107,
     "metadata": {},
     "output_type": "execute_result"
    }
   ],
   "source": [
    "arr2"
   ]
  },
  {
   "cell_type": "code",
   "execution_count": 110,
   "id": "0d15842e-ca3b-4107-a535-b295372bcc37",
   "metadata": {},
   "outputs": [
    {
     "data": {
      "text/plain": [
       "np.float64(4.166666666666667)"
      ]
     },
     "execution_count": 110,
     "metadata": {},
     "output_type": "execute_result"
    }
   ],
   "source": [
    "arr2.mean()"
   ]
  },
  {
   "cell_type": "code",
   "execution_count": 111,
   "id": "112802a2-548d-4aa9-969f-c11767a883c2",
   "metadata": {},
   "outputs": [
    {
     "data": {
      "text/plain": [
       "array([[ 2,  3],\n",
       "       [ 7,  5],\n",
       "       [14, 11]])"
      ]
     },
     "execution_count": 111,
     "metadata": {},
     "output_type": "execute_result"
    }
   ],
   "source": [
    "arr2.cumsum(axis = 0)"
   ]
  },
  {
   "cell_type": "code",
   "execution_count": 112,
   "id": "ffa7acdf-79a5-4789-a107-0a59441f72f1",
   "metadata": {},
   "outputs": [
    {
     "data": {
      "text/plain": [
       "array([[ 2,  5],\n",
       "       [ 5,  7],\n",
       "       [ 7, 13]])"
      ]
     },
     "execution_count": 112,
     "metadata": {},
     "output_type": "execute_result"
    }
   ],
   "source": [
    "arr2.cumsum(axis = 1)"
   ]
  },
  {
   "cell_type": "code",
   "execution_count": 113,
   "id": "876aa888-a70f-423a-8c54-fe5dbe361841",
   "metadata": {},
   "outputs": [
    {
     "data": {
      "text/plain": [
       "np.float64(4.0)"
      ]
     },
     "execution_count": 113,
     "metadata": {},
     "output_type": "execute_result"
    }
   ],
   "source": [
    "np.median(arr2)"
   ]
  },
  {
   "cell_type": "code",
   "execution_count": 114,
   "id": "f3db1260-db87-4bf9-b816-e2df0c5fa271",
   "metadata": {},
   "outputs": [
    {
     "data": {
      "text/plain": [
       "array([[ 0.90929743,  0.14112001],\n",
       "       [-0.95892427,  0.90929743],\n",
       "       [ 0.6569866 , -0.2794155 ]])"
      ]
     },
     "execution_count": 114,
     "metadata": {},
     "output_type": "execute_result"
    }
   ],
   "source": [
    "np.sin(arr2)"
   ]
  },
  {
   "cell_type": "code",
   "execution_count": 115,
   "id": "8cb907db-ca5f-4910-80b1-303e08284477",
   "metadata": {},
   "outputs": [
    {
     "data": {
      "text/plain": [
       "array([[   7.3890561 ,   20.08553692],\n",
       "       [ 148.4131591 ,    7.3890561 ],\n",
       "       [1096.63315843,  403.42879349]])"
      ]
     },
     "execution_count": 115,
     "metadata": {},
     "output_type": "execute_result"
    }
   ],
   "source": [
    "np.exp(arr2)"
   ]
  },
  {
   "cell_type": "code",
   "execution_count": 116,
   "id": "d761290f-161b-43c4-bd9a-49307c64e5e1",
   "metadata": {},
   "outputs": [
    {
     "data": {
      "text/plain": [
       "array([[2, 3],\n",
       "       [5, 2],\n",
       "       [7, 6]])"
      ]
     },
     "execution_count": 116,
     "metadata": {},
     "output_type": "execute_result"
    }
   ],
   "source": [
    " arr2"
   ]
  },
  {
   "cell_type": "code",
   "execution_count": 118,
   "id": "17734fda-b003-4f68-914c-97ae07d61cf9",
   "metadata": {},
   "outputs": [
    {
     "data": {
      "text/plain": [
       "2"
      ]
     },
     "execution_count": 118,
     "metadata": {},
     "output_type": "execute_result"
    }
   ],
   "source": [
    "arr2.ndim"
   ]
  },
  {
   "cell_type": "code",
   "execution_count": 121,
   "id": "235f4682-64ef-43a0-bdf5-c3e34c0f7747",
   "metadata": {},
   "outputs": [
    {
     "data": {
      "text/plain": [
       "array([[2, 3],\n",
       "       [5, 2],\n",
       "       [7, 6]])"
      ]
     },
     "execution_count": 121,
     "metadata": {},
     "output_type": "execute_result"
    }
   ],
   "source": [
    "arr2"
   ]
  },
  {
   "cell_type": "code",
   "execution_count": 122,
   "id": "5ddc7960-9843-429d-b2c7-ec6edb5b9e17",
   "metadata": {},
   "outputs": [
    {
     "data": {
      "text/plain": [
       "array([2, 3, 5, 2, 7, 6])"
      ]
     },
     "execution_count": 122,
     "metadata": {},
     "output_type": "execute_result"
    }
   ],
   "source": [
    "arr2.ravel()"
   ]
  },
  {
   "cell_type": "code",
   "execution_count": 124,
   "id": "9f7705a6-731f-4f7d-af6b-a06d0d66599f",
   "metadata": {},
   "outputs": [
    {
     "data": {
      "text/plain": [
       "array([[2, 3, 5],\n",
       "       [2, 7, 6]])"
      ]
     },
     "execution_count": 124,
     "metadata": {},
     "output_type": "execute_result"
    }
   ],
   "source": [
    "arr1"
   ]
  },
  {
   "cell_type": "code",
   "execution_count": 125,
   "id": "6f32838a-12ef-4bdd-893a-c514418bc5c2",
   "metadata": {},
   "outputs": [
    {
     "data": {
      "text/plain": [
       "array([[2, 3],\n",
       "       [5, 2],\n",
       "       [7, 6]])"
      ]
     },
     "execution_count": 125,
     "metadata": {},
     "output_type": "execute_result"
    }
   ],
   "source": [
    "arr1.reshape(3,2)"
   ]
  },
  {
   "cell_type": "code",
   "execution_count": 126,
   "id": "f8b06305-ac05-48e3-89ee-eb4b7a158e3f",
   "metadata": {},
   "outputs": [
    {
     "data": {
      "text/plain": [
       "array([[ 0,  1,  2,  3],\n",
       "       [ 4,  5,  6,  7],\n",
       "       [ 8,  9, 10, 11],\n",
       "       [12, 13, 14, 15],\n",
       "       [16, 17, 18, 19],\n",
       "       [20, 21, 22, 23]])"
      ]
     },
     "execution_count": 126,
     "metadata": {},
     "output_type": "execute_result"
    }
   ],
   "source": [
    "arr12"
   ]
  },
  {
   "cell_type": "code",
   "execution_count": 127,
   "id": "d17caf05-a9fb-48c6-a3d4-d8cfb0aff7f0",
   "metadata": {},
   "outputs": [
    {
     "data": {
      "text/plain": [
       "array([[ 0,  4,  8, 12, 16, 20],\n",
       "       [ 1,  5,  9, 13, 17, 21],\n",
       "       [ 2,  6, 10, 14, 18, 22],\n",
       "       [ 3,  7, 11, 15, 19, 23]])"
      ]
     },
     "execution_count": 127,
     "metadata": {},
     "output_type": "execute_result"
    }
   ],
   "source": [
    "arr12.transpose()"
   ]
  },
  {
   "cell_type": "code",
   "execution_count": 128,
   "id": "3eb43e93-18a2-4bee-aea2-9225518a1205",
   "metadata": {},
   "outputs": [
    {
     "data": {
      "text/plain": [
       "array([[2, 3],\n",
       "       [5, 2],\n",
       "       [7, 6]])"
      ]
     },
     "execution_count": 128,
     "metadata": {},
     "output_type": "execute_result"
    }
   ],
   "source": [
    "arr2"
   ]
  },
  {
   "cell_type": "code",
   "execution_count": 129,
   "id": "4f2f6d79-e7f1-48ef-8b7c-8611bfd3e593",
   "metadata": {},
   "outputs": [
    {
     "data": {
      "text/plain": [
       "array([[2, 5, 7],\n",
       "       [3, 2, 6]])"
      ]
     },
     "execution_count": 129,
     "metadata": {},
     "output_type": "execute_result"
    }
   ],
   "source": [
    "arr2.transpose()"
   ]
  },
  {
   "cell_type": "code",
   "execution_count": 130,
   "id": "817e3994-9465-4982-8864-433331d15c56",
   "metadata": {},
   "outputs": [
    {
     "data": {
      "text/plain": [
       "array([[2, 3, 5],\n",
       "       [2, 7, 6]])"
      ]
     },
     "execution_count": 130,
     "metadata": {},
     "output_type": "execute_result"
    }
   ],
   "source": [
    "arr1"
   ]
  },
  {
   "cell_type": "code",
   "execution_count": 131,
   "id": "451fae58-ab13-44c0-930c-d193c65e50e7",
   "metadata": {},
   "outputs": [
    {
     "data": {
      "text/plain": [
       "array([[2, 3],\n",
       "       [5, 2],\n",
       "       [7, 6]])"
      ]
     },
     "execution_count": 131,
     "metadata": {},
     "output_type": "execute_result"
    }
   ],
   "source": [
    "arr2"
   ]
  },
  {
   "cell_type": "code",
   "execution_count": 132,
   "id": "d7f57092-964c-48ad-9e0c-9d4ddcafd0ea",
   "metadata": {},
   "outputs": [
    {
     "data": {
      "text/plain": [
       "array([[2, 5, 7],\n",
       "       [3, 2, 6]])"
      ]
     },
     "execution_count": 132,
     "metadata": {},
     "output_type": "execute_result"
    }
   ],
   "source": [
    "arr2.transpose()"
   ]
  },
  {
   "cell_type": "code",
   "execution_count": 133,
   "id": "91447472-8cf3-4a39-9fbf-44ade6047564",
   "metadata": {},
   "outputs": [
    {
     "data": {
      "text/plain": [
       "array([[2, 3, 5],\n",
       "       [2, 7, 6]])"
      ]
     },
     "execution_count": 133,
     "metadata": {},
     "output_type": "execute_result"
    }
   ],
   "source": [
    "arr1"
   ]
  },
  {
   "cell_type": "code",
   "execution_count": 134,
   "id": "d86fc6bd-6cd6-49d8-9d48-9c732a811538",
   "metadata": {},
   "outputs": [
    {
     "data": {
      "text/plain": [
       "array([[2, 3],\n",
       "       [5, 2],\n",
       "       [7, 6]])"
      ]
     },
     "execution_count": 134,
     "metadata": {},
     "output_type": "execute_result"
    }
   ],
   "source": [
    "arr2"
   ]
  },
  {
   "cell_type": "code",
   "execution_count": 135,
   "id": "82f55af7-58e0-43e9-93b6-30ad89c6a21d",
   "metadata": {},
   "outputs": [
    {
     "data": {
      "text/plain": [
       "array([[2, 3, 5],\n",
       "       [2, 7, 6]])"
      ]
     },
     "execution_count": 135,
     "metadata": {},
     "output_type": "execute_result"
    }
   ],
   "source": [
    "arr2.reshape(2,3)"
   ]
  },
  {
   "cell_type": "code",
   "execution_count": 136,
   "id": "5a115006-16e1-445e-a933-f7582930d620",
   "metadata": {},
   "outputs": [
    {
     "data": {
      "text/plain": [
       "array([[2, 3, 5],\n",
       "       [2, 7, 6]])"
      ]
     },
     "execution_count": 136,
     "metadata": {},
     "output_type": "execute_result"
    }
   ],
   "source": [
    "arr1"
   ]
  },
  {
   "cell_type": "code",
   "execution_count": 137,
   "id": "b19255f4-5b7a-40f4-baf3-3f933311483a",
   "metadata": {},
   "outputs": [
    {
     "data": {
      "text/plain": [
       "array([[2, 3],\n",
       "       [5, 2],\n",
       "       [7, 6]])"
      ]
     },
     "execution_count": 137,
     "metadata": {},
     "output_type": "execute_result"
    }
   ],
   "source": [
    "arr2"
   ]
  },
  {
   "cell_type": "code",
   "execution_count": 140,
   "id": "dc66c65a-7530-4d5f-aa74-a86a7b42a0a6",
   "metadata": {},
   "outputs": [],
   "source": [
    "arr13 = np.arange(1,7).reshape(2,3)"
   ]
  },
  {
   "cell_type": "code",
   "execution_count": 141,
   "id": "c7b4cf43-7b1f-4d69-bee8-822015adf365",
   "metadata": {},
   "outputs": [
    {
     "data": {
      "text/plain": [
       "array([[1, 2, 3],\n",
       "       [4, 5, 6]])"
      ]
     },
     "execution_count": 141,
     "metadata": {},
     "output_type": "execute_result"
    }
   ],
   "source": [
    "arr13"
   ]
  },
  {
   "cell_type": "code",
   "execution_count": 142,
   "id": "6822657a-8faa-4e55-a89f-61512208a6b1",
   "metadata": {},
   "outputs": [
    {
     "data": {
      "text/plain": [
       "array([[2, 3, 5],\n",
       "       [2, 7, 6]])"
      ]
     },
     "execution_count": 142,
     "metadata": {},
     "output_type": "execute_result"
    }
   ],
   "source": [
    "arr1"
   ]
  },
  {
   "cell_type": "code",
   "execution_count": 144,
   "id": "05f291cb-415d-420c-82fb-6ece57b32e9f",
   "metadata": {},
   "outputs": [
    {
     "data": {
      "text/plain": [
       "array([[2, 3, 5, 1, 2, 3],\n",
       "       [2, 7, 6, 4, 5, 6]])"
      ]
     },
     "execution_count": 144,
     "metadata": {},
     "output_type": "execute_result"
    }
   ],
   "source": [
    "np.hstack((arr1,arr13))"
   ]
  },
  {
   "cell_type": "code",
   "execution_count": 145,
   "id": "c35127ee-4495-4d1e-ad53-11c2b94e9f9c",
   "metadata": {},
   "outputs": [
    {
     "data": {
      "text/plain": [
       "array([[2, 3, 5],\n",
       "       [2, 7, 6],\n",
       "       [1, 2, 3],\n",
       "       [4, 5, 6]])"
      ]
     },
     "execution_count": 145,
     "metadata": {},
     "output_type": "execute_result"
    }
   ],
   "source": [
    "np.vstack((arr1,arr13))"
   ]
  },
  {
   "cell_type": "code",
   "execution_count": 146,
   "id": "b6edf050-e266-4ea2-839d-bf6c2fb1b8f6",
   "metadata": {},
   "outputs": [
    {
     "data": {
      "text/plain": [
       "array([[1, 2, 3],\n",
       "       [4, 5, 6]])"
      ]
     },
     "execution_count": 146,
     "metadata": {},
     "output_type": "execute_result"
    }
   ],
   "source": [
    "arr13"
   ]
  },
  {
   "cell_type": "code",
   "execution_count": 148,
   "id": "dddb2684-605d-442b-bc56-ee506287e463",
   "metadata": {},
   "outputs": [
    {
     "data": {
      "text/plain": [
       "[array([[1],\n",
       "        [4]]),\n",
       " array([[2],\n",
       "        [5]]),\n",
       " array([[3],\n",
       "        [6]])]"
      ]
     },
     "execution_count": 148,
     "metadata": {},
     "output_type": "execute_result"
    }
   ],
   "source": [
    "np.hsplit(arr13,3)"
   ]
  },
  {
   "cell_type": "code",
   "execution_count": 149,
   "id": "8f867223-4ab9-402a-8eea-883a97cb1dbf",
   "metadata": {},
   "outputs": [
    {
     "data": {
      "text/plain": [
       "[array([[1, 2, 3]]), array([[4, 5, 6]])]"
      ]
     },
     "execution_count": 149,
     "metadata": {},
     "output_type": "execute_result"
    }
   ],
   "source": [
    "np.vsplit(arr13,2)"
   ]
  },
  {
   "cell_type": "code",
   "execution_count": 150,
   "id": "14537be9-2eef-462f-add5-1681e444018c",
   "metadata": {},
   "outputs": [
    {
     "data": {
      "text/plain": [
       "array([[ 0,  1,  2,  3],\n",
       "       [ 4,  5,  6,  7],\n",
       "       [ 8,  9, 10, 11],\n",
       "       [12, 13, 14, 15],\n",
       "       [16, 17, 18, 19],\n",
       "       [20, 21, 22, 23]])"
      ]
     },
     "execution_count": 150,
     "metadata": {},
     "output_type": "execute_result"
    }
   ],
   "source": [
    "arr12"
   ]
  },
  {
   "cell_type": "code",
   "execution_count": 151,
   "id": "b460528f-472f-4a2c-a237-55177c315da9",
   "metadata": {},
   "outputs": [
    {
     "data": {
      "text/plain": [
       "array([[ 0,  1,  2,  3],\n",
       "       [ 8,  9, 10, 11],\n",
       "       [16, 17, 18, 19]])"
      ]
     },
     "execution_count": 151,
     "metadata": {},
     "output_type": "execute_result"
    }
   ],
   "source": [
    "arr12[[0,2,4]]"
   ]
  },
  {
   "cell_type": "code",
   "execution_count": null,
   "id": "029cf102-be6e-40c7-892c-ab1041b3f724",
   "metadata": {},
   "outputs": [],
   "source": []
  }
 ],
 "metadata": {
  "kernelspec": {
   "display_name": "venv",
   "language": "python",
   "name": "venv"
  },
  "language_info": {
   "codemirror_mode": {
    "name": "ipython",
    "version": 3
   },
   "file_extension": ".py",
   "mimetype": "text/x-python",
   "name": "python",
   "nbconvert_exporter": "python",
   "pygments_lexer": "ipython3",
   "version": "3.13.1"
  }
 },
 "nbformat": 4,
 "nbformat_minor": 5
}
