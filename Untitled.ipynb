{
 "cells": [
  {
   "cell_type": "code",
   "execution_count": 1,
   "id": "a5dd42ba-42ac-4db9-b227-8d55e19f77b4",
   "metadata": {},
   "outputs": [],
   "source": [
    "# creating numpy/n-d arrays\n",
    "import numpy as np "
   ]
  },
  {
   "cell_type": "code",
   "execution_count": null,
   "id": "e7841f66-a089-4525-b29d-d7eab442422c",
   "metadata": {},
   "outputs": [],
   "source": []
  }
 ],
 "metadata": {
  "kernelspec": {
   "display_name": "venv",
   "language": "python",
   "name": "venv"
  },
  "language_info": {
   "codemirror_mode": {
    "name": "ipython",
    "version": 3
   },
   "file_extension": ".py",
   "mimetype": "text/x-python",
   "name": "python",
   "nbconvert_exporter": "python",
   "pygments_lexer": "ipython3",
   "version": "3.13.1"
  }
 },
 "nbformat": 4,
 "nbformat_minor": 5
}
